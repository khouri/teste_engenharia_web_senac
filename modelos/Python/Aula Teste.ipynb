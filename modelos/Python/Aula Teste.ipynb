{
 "cells": [
  {
   "cell_type": "markdown",
   "metadata": {},
   "source": [
    "# Aula teste SENAC"
   ]
  },
  {
   "cell_type": "markdown",
   "metadata": {},
   "source": [
    "Vamos usar a extensão jupiternotebook da linguagem Python para treinar nosso modelo. Essa extensão é uma linguagem de marcação que permite misturar HTML + código fonte para gerar relatórios científicos com fácil **reprodução**. Essa extensão funciona subindo um servidor web simples em background, responsável por executar o código python aqui presente. Além disso disponibiliza o output em HTML com possibilidade de exportação para pdf."
   ]
  },
  {
   "cell_type": "markdown",
   "metadata": {},
   "source": [
    "# Decision tree"
   ]
  },
  {
   "cell_type": "code",
   "execution_count": 13,
   "metadata": {
    "ExecuteTime": {
     "end_time": "2019-08-25T17:23:10.166772Z",
     "start_time": "2019-08-25T17:22:55.759541Z"
    }
   },
   "outputs": [
    {
     "name": "stdout",
     "output_type": "stream",
     "text": [
      "Fitting 3 folds for each of 18 candidates, totalling 54 fits\n"
     ]
    },
    {
     "name": "stderr",
     "output_type": "stream",
     "text": [
      "[Parallel(n_jobs=-1)]: Using backend LokyBackend with 4 concurrent workers.\n",
      "[Parallel(n_jobs=-1)]: Done  42 tasks      | elapsed:    5.4s\n",
      "[Parallel(n_jobs=-1)]: Done  54 out of  54 | elapsed:    6.2s finished\n"
     ]
    },
    {
     "name": "stdout",
     "output_type": "stream",
     "text": [
      "Best score: 0.896\n",
      "Best parameters set:\n",
      "tclf__max_depth: 155\n",
      "tclf__min_samples_leaf: 1\n",
      "tclf__min_samples_split: 3\n",
      "              precision    recall  f1-score   support\n",
      "\n",
      "           0       0.98      0.98      0.98       705\n",
      "           1       0.87      0.88      0.87       115\n",
      "\n",
      "   micro avg       0.96      0.96      0.96       820\n",
      "   macro avg       0.93      0.93      0.93       820\n",
      "weighted avg       0.96      0.96      0.96       820\n",
      "\n"
     ]
    }
   ],
   "source": [
    "# data science libs\n",
    "import pandas as pd\n",
    "from sklearn.tree import DecisionTreeClassifier\n",
    "from sklearn.model_selection import train_test_split\n",
    "from sklearn.metrics import classification_report\n",
    "from sklearn.pipeline import Pipeline\n",
    "from sklearn.model_selection import GridSearchCV\n",
    "\n",
    "# remove useless warning message, is it a good idea? Why (why not)?\n",
    "# import warnings\n",
    "# warnings.filterwarnings('ignore')\n",
    "\n",
    "df = pd.read_csv('../data/ad.data',\n",
    "                 header=None)\n",
    "\n",
    "explanatory_variable_columns = set(df.columns.values)\n",
    "\n",
    "#Remove the target variable\n",
    "explanatory_variable_columns.remove(len(df.columns.values)-1)\n",
    "\n",
    "#Create a pandas series to hold the target\n",
    "response_variable_column = df[len(df.columns.values)-1] # The last column describes the classes\n",
    "\n",
    "# transform the target in a numerical value\n",
    "y = [1 if e == 'ad.' else 0 for e in response_variable_column]\n",
    "\n",
    "#copy the trainning data before any transformation\n",
    "X = df[list(explanatory_variable_columns)].copy()\n",
    "\n",
    "#Some fields has missing values this is why we have some warnings\n",
    "X.replace(to_replace=' *?', value=-1, regex=True, inplace=True)\n",
    "\n",
    "#Split the data in: test and train sets\n",
    "X_train, X_test, y_train, y_test = train_test_split(X, y)\n",
    "\n",
    "#  Create a sequence of tranformations (before or after the \n",
    "#predict [pre(pos)-process steps]) and predictor.\n",
    "pipeline = Pipeline([\n",
    "    ('clf', DecisionTreeClassifier(criterion='entropy'))\n",
    "])\n",
    "\n",
    "parameters = {\n",
    "    'clf__max_depth': (150, 155, 160),\n",
    "    'clf__min_samples_split': (2, 3),\n",
    "    'clf__min_samples_leaf': (1, 2, 3)\n",
    "}\n",
    "\n",
    "#look the best parameters\n",
    "grid_search = GridSearchCV(pipeline, \n",
    "                           parameters, \n",
    "                           n_jobs=-1, \n",
    "                           verbose=1,\n",
    "                           scoring='f1')\n",
    "\n",
    "#fit the model with the best parameters\n",
    "grid_search.fit(X_train, y_train)\n",
    "\n",
    "#get the best parameters\n",
    "best_parameters = grid_search.best_estimator_.get_params()\n",
    "\n",
    "print('Best score: %0.3f' % grid_search.best_score_)\n",
    "print('Best parameters set:')\n",
    "for param_name in sorted(parameters.keys()):\n",
    "    print('t%s: %r' % (param_name, best_parameters[param_name]))\n",
    "\n",
    "# apply the trained model in the test data \n",
    "predictions = grid_search.predict(X_test)\n",
    "\n",
    "#Report of the model in the test data\n",
    "print(classification_report(y_test, predictions))\n"
   ]
  },
  {
   "cell_type": "markdown",
   "metadata": {},
   "source": [
    "## Parameters"
   ]
  },
  {
   "cell_type": "markdown",
   "metadata": {},
   "source": [
    "1. max_depth: This indicates how deep the tree can be\n",
    "2. min_samples_split: Represents the minimum number of samples required to split an internal node\n",
    "3. min_samples_leaf: The minimum number of samples required to be at a leaf node"
   ]
  },
  {
   "cell_type": "markdown",
   "metadata": {},
   "source": [
    "# Xgboost"
   ]
  },
  {
   "cell_type": "code",
   "execution_count": 28,
   "metadata": {
    "ExecuteTime": {
     "end_time": "2019-08-25T19:00:13.498201Z",
     "start_time": "2019-08-25T18:59:03.405842Z"
    }
   },
   "outputs": [
    {
     "name": "stdout",
     "output_type": "stream",
     "text": [
      "Fitting 3 folds for each of 2 candidates, totalling 6 fits\n"
     ]
    },
    {
     "name": "stderr",
     "output_type": "stream",
     "text": [
      "[Parallel(n_jobs=1)]: Using backend SequentialBackend with 1 concurrent workers.\n",
      "[Parallel(n_jobs=1)]: Done   6 out of   6 | elapsed:   49.6s finished\n"
     ]
    },
    {
     "name": "stdout",
     "output_type": "stream",
     "text": [
      "Best score: 0.808\n",
      "Best parameters set:\n",
      "tclf__colsample_bytree: 0.3\n",
      "tclf__gamma: 0.02\n",
      "tclf__learning_rate: 0.02\n",
      "tclf__max_depth: 1\n",
      "tclf__n_estimators: 1000\n",
      "tclf__subsample: 0.4\n",
      "              precision    recall  f1-score   support\n",
      "\n",
      "           0       0.97      1.00      0.98       711\n",
      "           1       0.99      0.78      0.87       109\n",
      "\n",
      "   micro avg       0.97      0.97      0.97       820\n",
      "   macro avg       0.98      0.89      0.93       820\n",
      "weighted avg       0.97      0.97      0.97       820\n",
      "\n"
     ]
    }
   ],
   "source": [
    "# data science libs\n",
    "import pandas as pd\n",
    "from xgboost import XGBClassifier\n",
    "from sklearn.model_selection import train_test_split\n",
    "from sklearn.metrics import classification_report\n",
    "from sklearn.pipeline import Pipeline\n",
    "from sklearn.model_selection import GridSearchCV\n",
    "\n",
    "from scipy.stats import uniform, randint\n",
    "\n",
    "# remove useless warning message, is it a good idea? Why (why not)?\n",
    "# import warnings\n",
    "# warnings.filterwarnings('ignore')\n",
    "\n",
    "df = pd.read_csv('../data/ad.data',\n",
    "                 header=None)\n",
    "\n",
    "explanatory_variable_columns = set(df.columns.values)\n",
    "\n",
    "#Remove the target variable\n",
    "explanatory_variable_columns.remove(len(df.columns.values)-1)\n",
    "\n",
    "#Create a pandas series to hold the target\n",
    "response_variable_column = df[len(df.columns.values)-1] # The last column describes the classes\n",
    "\n",
    "# transform the target in a numerical value\n",
    "y = [1 if e == 'ad.' else 0 for e in response_variable_column]\n",
    "\n",
    "#copy the trainning data before any transformation\n",
    "X = df[list(explanatory_variable_columns)].copy()\n",
    "\n",
    "#Some fields has missing values this is why we have some warnings\n",
    "X.replace(to_replace=' *?', value=-1, regex=True, inplace=True)\n",
    "\n",
    "#Split the data in: test and train sets\n",
    "X_train, X_test, y_train, y_test = train_test_split(X, y)\n",
    "\n",
    "#  Create a sequence of tranformations (before or after the \n",
    "#predict [pre(pos)-process steps]) and predictor.\n",
    "pipeline = Pipeline([\n",
    "    ('clf', XGBClassifier())\n",
    "])\n",
    "\n",
    "parameters = {\n",
    "   \"clf__colsample_bytree\": (0.2, 0.3),\n",
    "   \"clf__gamma\": [0.02],\n",
    "   \"clf__learning_rate\": [0.02], # default 0.1 \n",
    "   \"clf__max_depth\": [1], # default 3\n",
    "   \"clf__n_estimators\": [1000], # default 100\n",
    "   \"clf__subsample\": [0.4]\n",
    "}\n",
    "\n",
    "# XGBClassifier(base_score=0.5, booster='gbtree', colsample_bylevel=1,\n",
    "#        colsample_bytree=1, criterion='entropy', gamma=0, learning_rate=0.1,\n",
    "#        max_delta_step=0, max_depth=3, min_child_weight=1, missing=None,\n",
    "#        n_estimators=100, n_jobs=1, nthread=None,\n",
    "#        objective='binary:logistic', random_state=0, reg_alpha=0,\n",
    "#        reg_lambda=1, scale_pos_weight=1, seed=None, silent=True,\n",
    "#        subsample=1\n",
    "\n",
    "#look the best parameters\n",
    "grid_search = GridSearchCV(pipeline, \n",
    "                           parameters, \n",
    "                           n_jobs=None, \n",
    "                           verbose=1,\n",
    "                           scoring='f1')\n",
    "\n",
    "#fit the model with the best parameters\n",
    "grid_search.fit(X_train, y_train)\n",
    "\n",
    "#get the best parameters\n",
    "best_parameters = grid_search.best_estimator_.get_params()\n",
    "\n",
    "print('Best score: %0.3f' % grid_search.best_score_)\n",
    "print('Best parameters set:')\n",
    "for param_name in sorted(parameters.keys()):\n",
    "    print('t%s: %r' % (param_name, best_parameters[param_name]))\n",
    "\n",
    "# apply the trained model in the test data \n",
    "predictions = grid_search.predict(X_test)\n",
    "\n",
    "#Report of the model in the test data\n",
    "print(classification_report(y_test, predictions))\n"
   ]
  },
  {
   "cell_type": "markdown",
   "metadata": {},
   "source": [
    "## Parameters"
   ]
  },
  {
   "cell_type": "markdown",
   "metadata": {},
   "source": [
    "Homework: Search the parameters definition at the internet"
   ]
  },
  {
   "cell_type": "markdown",
   "metadata": {},
   "source": [
    "# Random Forest"
   ]
  },
  {
   "cell_type": "markdown",
   "metadata": {},
   "source": [
    "Homework: Train a Random Forest Classifier"
   ]
  },
  {
   "cell_type": "markdown",
   "metadata": {},
   "source": []
  }
 ],
 "metadata": {
  "kernelspec": {
   "display_name": "Python 3",
   "language": "python",
   "name": "python3"
  },
  "language_info": {
   "codemirror_mode": {
    "name": "ipython",
    "version": 3
   },
   "file_extension": ".py",
   "mimetype": "text/x-python",
   "name": "python",
   "nbconvert_exporter": "python",
   "pygments_lexer": "ipython3",
   "version": "3.6.5"
  }
 },
 "nbformat": 4,
 "nbformat_minor": 2
}
