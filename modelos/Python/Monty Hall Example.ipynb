{
 "cells": [
  {
   "cell_type": "code",
   "execution_count": 200,
   "metadata": {
    "collapsed": true,
    "deletable": true,
    "editable": true
   },
   "outputs": [],
   "source": []
  },
  {
   "cell_type": "markdown",
   "metadata": {
    "deletable": true,
    "editable": true
   },
   "source": [
    "## The problem\n",
    "\n",
    "- We have to choose between 3 doors to open.\n",
    "- One of them has a car, the other 2 a goat\n",
    "- We first choose one of the 3, but they don't open it.\n",
    "- They open one of the 2 remaining doors to show there is a goat.\n",
    "- We now have to choose one of the 2\n",
    "\n",
    "## Which of the two doors should we choose?\n",
    "- Stay with our first selection\n",
    "- Change to the other door"
   ]
  },
  {
   "cell_type": "markdown",
   "metadata": {
    "deletable": true,
    "editable": true
   },
   "source": [
    "## The Math\n",
    "What are the odds? Should I stay with the first selection? Should I change? Is it option better than the other one?\n",
    "\n",
    "W = \"Winning the car\"\n",
    "\n",
    "### I will stay with my first choice\n",
    "\n",
    "$P(W) = 1/3$\n",
    "\n",
    "I will win if I hit the correct door in my first attempt. So I have 1 over 3 possible doors\n",
    "\n",
    "### I will throw a coin and choose randomly between the 2 remaining doors\n",
    "\n",
    "$P(W) = 1/2$\n",
    "\n",
    "Thats good! I have increased my odds to 1 over the 2 possible doors\n",
    "\n",
    "\n",
    "### I will change my choice\n",
    "\n",
    "Lets say I have chosen door 1 and they opened door 2 to show there is a goat. \n",
    "\n",
    "$C_1$ = \"Car behind door 1\"\n",
    "\n",
    "$C_3$ = \"Car behind door 3\"\n",
    "\n",
    "$G_2$ = \"Goat behind door 2\"\n",
    "\n",
    "The probability of a car in door 1 is 1/3\n",
    "\n",
    "$P(C_1) = 1/3$ \n",
    "\n",
    "I want to know which is the probability that there is a car behing door 1 given that there is a goat behing door 2. Or which is the probability that there is a car behing door 3 given that there is a goat behing door 2\n",
    "\n",
    "$P(C_1|G_2)$ = ? \n",
    "\n",
    "$P(C_3|G_2)$ = ? \n",
    "\n",
    "$P(C_1|G_2) + P(C_3|G_2) = 1$\n",
    "\n",
    "By bayes rule:\n",
    "\n",
    "$P(C_1|G_2) = \\frac{P(G_2/C_1)P(C_1)}{P(G_2)}$\n",
    "\n",
    "$P(C_1|G_2) = \\frac{P(G_2/C_1)P(C_1)}{P(G_2|C_1)P(C_1) + P(G_2|not C_1)P(not C_1)}$\n",
    "\n",
    "$P(C_1|G_2) = \\frac{(1/2)(1/3)}{(1)(1/3)+(1/2)(1/3)} = 1/3$\n",
    "\n",
    "$P(notC_1|G_2) = P(C_3|G_2) = 2/3$ \n",
    "\n",
    "So you better choose door 3!!! ;)"
   ]
  },
  {
   "cell_type": "markdown",
   "metadata": {
    "deletable": true,
    "editable": true
   },
   "source": [
    "## You don't trust the math? Lets simulate it!"
   ]
  },
  {
   "cell_type": "code",
   "execution_count": 8,
   "metadata": {
    "collapsed": false,
    "deletable": true,
    "editable": true
   },
   "outputs": [
    {
     "name": "stdout",
     "output_type": "stream",
     "text": [
      "   win_perc         switch_door\n",
      "0     66.29  Always switch door\n",
      "1     33.27   Never switch door\n"
     ]
    },
    {
     "data": {
      "image/png": "[encoded data removed]",
      "text/plain": [
       "<Figure size 720x432 with 1 Axes>"
      ]
     },
     "metadata": {},
     "output_type": "display_data"
    }
   ],
   "source": [
    "import numpy as np\n",
    "import pandas as pd\n",
    "import matplotlib.pyplot as plt\n",
    "import seaborn as sns\n",
    "\n",
    "def simulate_monty_hall(n, switch_door):\n",
    "    ''' \n",
    "    returns win count and relative frequency of Monty Hall game for different strategies, \n",
    "    where\n",
    "    n - number of games played\n",
    "    switch_door - strategy indicator, if true always switch_door, if false never switch_door\n",
    "    '''\n",
    "        \n",
    "    # initialise win count\n",
    "    win = 0\n",
    "    \n",
    "    # possible prizes\n",
    "    prizes = ['Car', 'Goat1', 'Goat2']\n",
    "    bad_prizes = prizes[1:3]#nao pega 0\n",
    "    \n",
    "    # iterate over number of games\n",
    "    for j in range(n):\n",
    "        # allocation of prizes to doors\n",
    "        doors = np.random.choice(prizes, size=3, replace=False) #coloco carro ou cabra\n",
    "        #print(doors)\n",
    "        \n",
    "        # player's first choice\n",
    "        first_choice = np.random.randint(1,3) #ESCOLHA INICIAL\n",
    "\n",
    "        #print(first_choice)\n",
    "        \n",
    "        # strategy 1: always switch door \n",
    "        if switch_door:\n",
    "            #no arrray de portas a posicao escolhida inicialmente continha um car?\n",
    "            if doors[first_choice] == 'Car':\n",
    "                reveal = np.random.choice(bad_prizes, size=1)\n",
    "                reveal_pos = np.where(doors == reveal)\n",
    "            elif doors[first_choice] == 'Goat1':\n",
    "                reveal_pos = np.where(doors == 'Goat2')\n",
    "            elif doors[first_choice] == 'Goat2':\n",
    "                reveal_pos = np.where(doors == 'Goat1')\n",
    "            # player's last choice, here switching to remaining door\n",
    "            final_choice = np.delete(doors, [first_choice, int(reveal_pos[0])])\n",
    "\n",
    "        # strategy 2: never switch door\n",
    "        elif not switch_door:\n",
    "            # player's last choice, here staying with first choice\n",
    "            final_choice = doors[first_choice]\n",
    "\n",
    "        # determine whether player has won based on final choice\n",
    "        if final_choice == 'Car':\n",
    "            win += 1\n",
    "        \n",
    "    # return win count and frequency        \n",
    "    return win, win/n\n",
    "\n",
    "\n",
    "\n",
    "n = 10000\n",
    "np.random.seed(123)\n",
    "sw_cnts, sw_freq = simulate_monty_hall(n, switch_door=True)\n",
    "nosw_cnts, nosw_freq = simulate_monty_hall(n, switch_door=False)\n",
    "\n",
    "\n",
    "results = pd.DataFrame({'win_perc': [sw_freq*100, nosw_freq*100],\n",
    "                        #'loss_freq': [1-sw_freq, 1-nosw_freq],\n",
    "                        'switch_door': ['True', 'False']})\n",
    "results['switch_door'] = results['switch_door'].map({'True': 'Always switch door', \n",
    "                                                     'False': 'Never switch door'})\n",
    "print(results)\n",
    "\n",
    "\n",
    "\n",
    "fig = plt.figure(1, figsize=(10,6))\n",
    "ax = sns.barplot(data=results.melt(id_vars=['switch_door']), \n",
    "                 y='value', x='switch_door', hue='variable')\n",
    "ax.legend_.remove()\n",
    "ax.set(ylim=(0, 100), \n",
    "       ylabel=('Win Percentage (%)'), \n",
    "       xlabel=('Strategy'),\n",
    "       title=('Comparing Strategies in Monty Hall Problem'))\n",
    "plt.show()\n",
    "\n"
   ]
  },
  {
   "cell_type": "code",
   "execution_count": null,
   "metadata": {
    "collapsed": true,
    "deletable": true,
    "editable": true
   },
   "outputs": [],
   "source": []
  },
  {
   "cell_type": "code",
   "execution_count": null,
   "metadata": {
    "collapsed": true,
    "deletable": true,
    "editable": true
   },
   "outputs": [],
   "source": []
  }
 ],
 "metadata": {
  "kernelspec": {
   "display_name": "Python 3",
   "language": "python",
   "name": "python3"
  },
  "language_info": {
   "codemirror_mode": {
    "name": "ipython",
    "version": 3
   },
   "file_extension": ".py",
   "mimetype": "text/x-python",
   "name": "python",
   "nbconvert_exporter": "python",
   "pygments_lexer": "ipython3",
   "version": "3.6.5"
  },
  "toc": {
   "colors": {
    "hover_highlight": "#DAA520",
    "navigate_num": "#000000",
    "navigate_text": "#333333",
    "running_highlight": "#FF0000",
    "selected_highlight": "#FFD700",
    "sidebar_border": "#EEEEEE",
    "wrapper_background": "#FFFFFF"
   },
   "moveMenuLeft": true,
   "nav_menu": {
    "height": "138px",
    "width": "252px"
   },
   "navigate_menu": true,
   "number_sections": true,
   "sideBar": true,
   "threshold": 4,
   "toc_cell": false,
   "toc_section_display": "block",
   "toc_window_display": false,
   "widenNotebook": false
  }
 },
 "nbformat": 4,
 "nbformat_minor": 2
}
